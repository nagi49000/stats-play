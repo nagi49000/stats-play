{
 "cells": [
  {
   "cell_type": "code",
   "execution_count": 1,
   "id": "0ad3562c",
   "metadata": {},
   "outputs": [],
   "source": [
    "import pylab\n",
    "import math\n",
    "import numpy as np\n",
    "import sklearn\n",
    "import sklearn.datasets\n",
    "import sklearn.model_selection\n",
    "import sklearn.naive_bayes\n",
    "import sklearn.linear_model\n",
    "import sklearn.metrics\n",
    "import pandas\n",
    "import copy\n",
    "import scipy.stats\n",
    "import scipy.integrate"
   ]
  },
  {
   "cell_type": "markdown",
   "id": "3cb7097a",
   "metadata": {},
   "source": [
    "# Information Entropy on Generative Models\n",
    "\n",
    "### Information Entropy from probability distributions\n",
    "\n",
    "Recall from [1] and [2] the form of information entropy for a random variable $X$ with distribution $P(x)$ over a (measurable) space $x \\in \\mathcal{X}$\n",
    "\n",
    "$ I(X) = \\log_2 \\left( \\frac{1}{P(X)} \\right) $,\n",
    "\n",
    "$ H(X) = - \\sum_{x \\in \\mathcal{X}} P(x) \\log_2 P(x) $\n",
    "\n",
    "or more generally\n",
    "\n",
    "$ H(X) = \\mathbb{E}_X [ - \\log_2 P(X) ] = \\mathbb{E}_X [ I(X) ]$ \n",
    "\n",
    "$H(X)$ represents the 'uncertainty' of $X$, or the rate of generating information from an information source $X$. $I(X)$ represents the information content of an event from $X$. This rate can be used to measure the information stored in a probabilistic generative model, and hence gives a measure of 'compression' that the model achieves over the data.\n",
    "\n",
    "For a continuous random variable $X$ with probability density function $p(x)$ over a continuous space $x \\in \\mathcal{X}$, one can use differential entropy [4], which is NOT a $n\\to\\infty$ limit of information entropy \n",
    "\n",
    "$ H(X) = \\int_\\mathcal{X} dx p(x) \\log_2 p(x) $"
   ]
  },
  {
   "cell_type": "markdown",
   "id": "32bfa7b8",
   "metadata": {},
   "source": [
    "### The biased coin\n",
    "\n",
    "In this case, the 'information source' is someone tossing a coin, which creates a 'message' that is the result of a coin toss. $\\mathcal{X}$ is a space with two elements, $\\mathcal{X} = \\{ x_{head}, x_{tail} \\}$, with $P(x_{tail}) = 1 - P(x_{head})$"
   ]
  },
  {
   "cell_type": "code",
   "execution_count": 2,
   "id": "fe79d7a4",
   "metadata": {},
   "outputs": [],
   "source": [
    "def get_unbiased_coin_entropy(p_xhead):\n",
    "    p_xtail = 1.0 - p_xhead\n",
    "    unbiased_coin_entropy = - (p_xtail * math.log(p_xtail, 2) + p_xhead * math.log(p_xhead, 2))\n",
    "    return unbiased_coin_entropy"
   ]
  },
  {
   "cell_type": "code",
   "execution_count": 3,
   "id": "af138e11",
   "metadata": {},
   "outputs": [
    {
     "data": {
      "text/plain": [
       "Text(0.5, 1.0, 'information entropy of unbiased coin')"
      ]
     },
     "execution_count": 3,
     "metadata": {},
     "output_type": "execute_result"
    },
    {
     "data": {
      "image/png": "[encoded data removed]",
      "text/plain": [
       "<Figure size 432x288 with 1 Axes>"
      ]
     },
     "metadata": {
      "needs_background": "light"
     },
     "output_type": "display_data"
    }
   ],
   "source": [
    "p_xheads = np.arange(0.5, 501)/501\n",
    "pylab.plot(p_xheads, [get_unbiased_coin_entropy(x) for x in p_xheads])\n",
    "pylab.xlabel(\"probability of a head\")\n",
    "pylab.ylabel(\"information in bits\")\n",
    "pylab.title(\"information entropy of unbiased coin\")"
   ]
  },
  {
   "cell_type": "markdown",
   "id": "1b1aeb6d",
   "metadata": {},
   "source": [
    "#### Maximal certainty and uncertainty\n",
    "\n",
    "To give this context as a message, consider the case of someone in a room tossing a coin, and transmitting a message to someone outside the room of the result of the coin toss. In practice, this message might look something like a json\n",
    "\n",
    "{\"timestamp\": 20200101T12:00:00, \"message_bits\": \"10010\"}\n",
    "\n",
    "In the perfectly even case of $P(x_{head}) = 0.5$ (which is the maximally uncertain case, and hence has the highest information entropy), the messages will look like, respectively for heads or tails,\n",
    "\n",
    "{\"timestamp\": 20200101T12:00:00, \"message_bits\": \"0\"}\n",
    "\n",
    "{\"timestamp\": 20200101T12:10:00, \"message_bits\": \"1\"}\n",
    "\n",
    "and the average message length is 1 bit.\n",
    "\n",
    "For the perfectly uneven case of $P(x_{head}) = 1.0$ or $P(x_{head}) = 0.0$ (which is the completely certain case, and has zero information entropy), the result of each coin toss will always be the same; there is in fact no value in sending the message bits. The messages will look like\n",
    "\n",
    "{\"timestamp\": 20200101T12:20:00, \"message_bits\": \"\"}\n",
    "\n",
    "and the average message length is 0 bits.\n",
    "\n",
    "#### Partial certainty\n",
    "\n",
    "To consider some kind of rate, consider repeated experiments reported as a string of bits. For the unbiased coin case, this would look like a random string\n",
    "\n",
    "1001010110101010\n",
    "\n",
    "whereas the completely biased case would look like a bit string\n",
    "\n",
    "0000000000000000 .\n",
    "\n",
    "This latter case has zero information rate coming out as the string progresses (and may be familiar as a bit string that compresses down very well). A partial certain case, e.g. where $P(x_{head}) = 0.1$ would look something like\n",
    "\n",
    "0000100000000010\n",
    "\n",
    "which yields a smaller rate of information coming from the series of experiments."
   ]
  },
  {
   "cell_type": "markdown",
   "id": "78633cfd",
   "metadata": {},
   "source": [
    "### Conditional Information Entropy\n",
    "\n",
    "As per [1], [3], information entropy can be extended to conditional distributions. The definition above extends to a particular condition by \n",
    "\n",
    "$ H(Y|X=x) = - \\sum_{y \\in \\mathcal{Y}} P(y | X=x) \\log_2 P(y | X=x) $\n",
    "\n",
    "and defining\n",
    "\n",
    "$ H(Y|X) = \\sum_{x \\in \\mathcal{X}} P(x) H(Y|X=x) $\n",
    "\n",
    "for an information entropy on conditional random variables. From the definition of conditional probability, one can show that\n",
    "\n",
    "$ H(Y|X) = H(X|Y) - H(X) + H(Y) $"
   ]
  },
  {
   "cell_type": "markdown",
   "id": "b358f001",
   "metadata": {},
   "source": [
    "### Naive Bayes classifier\n",
    "\n",
    "Taking a naive Bayes classifier and training it on a dataset, the model should have learned a prior distribution and a conditional distribution. The conditional information entropy should then be calculable"
   ]
  },
  {
   "cell_type": "code",
   "execution_count": 4,
   "id": "71f7ef06",
   "metadata": {},
   "outputs": [
    {
     "name": "stdout",
     "output_type": "stream",
     "text": [
      "feature column names: Index(['alcohol', 'malic_acid', 'ash', 'alcalinity_of_ash', 'magnesium',\n",
      "       'total_phenols', 'flavanoids', 'nonflavanoid_phenols',\n",
      "       'proanthocyanins', 'color_intensity', 'hue',\n",
      "       'od280/od315_of_diluted_wines', 'proline'],\n",
      "      dtype='object')\n"
     ]
    }
   ],
   "source": [
    "# data import and shaping\n",
    "wine = sklearn.datasets.load_wine(as_frame=True)\n",
    "df = copy.deepcopy(wine[\"data\"])\n",
    "df[\"target\"] = wine[\"target\"]\n",
    "print(f\"feature column names: {wine['data'].keys()}\")\n",
    "X_train, X_test, y_train, y_test = sklearn.model_selection.train_test_split(wine[\"data\"], wine[\"target\"], test_size=0.2, random_state=42, shuffle=True)"
   ]
  },
  {
   "cell_type": "code",
   "execution_count": 5,
   "id": "cd6a5d73",
   "metadata": {},
   "outputs": [
    {
     "data": {
      "text/plain": [
       "array([[8, 6, 0],\n",
       "       [6, 7, 0],\n",
       "       [0, 1, 8]])"
      ]
     },
     "execution_count": 5,
     "metadata": {},
     "output_type": "execute_result"
    }
   ],
   "source": [
    "# to make calculations easier, train on a single feature\n",
    "feature = \"hue\"\n",
    "gnb_clf = sklearn.naive_bayes.GaussianNB()\n",
    "gnb_clf.fit([[x] for x in X_train[feature]], y_train)\n",
    "y_pred = gnb_clf.predict([[x] for x in X_test[feature]])\n",
    "sklearn.metrics.confusion_matrix(y_pred, [x for x in y_test])"
   ]
  },
  {
   "cell_type": "markdown",
   "id": "ff6c0285",
   "metadata": {},
   "source": [
    "Since the generated model is a Gausian Naive Bayes with one feature over three classification classes, the priors should be a discrete probability distribution over each class, and each class should have a 1D Gaussian Bayesian distribution."
   ]
  },
  {
   "cell_type": "code",
   "execution_count": 6,
   "id": "daa0a394",
   "metadata": {
    "scrolled": false
   },
   "outputs": [
    {
     "name": "stdout",
     "output_type": "stream",
     "text": [
      "priors for each class [0.31690141 0.40140845 0.28169014]\n",
      "means for each class [[1.064     ]\n",
      " [1.06063158]\n",
      " [0.68675   ]]\n",
      "variances for each class [[0.01265067]\n",
      " [0.0444069 ]\n",
      " [0.01445194]]\n"
     ]
    }
   ],
   "source": [
    "print(f\"priors for each class {gnb_clf.class_prior_}\")\n",
    "print(f\"means for each class {gnb_clf.theta_}\")\n",
    "print(f\"variances for each class {gnb_clf.var_}\")"
   ]
  },
  {
   "cell_type": "markdown",
   "id": "115aab71",
   "metadata": {},
   "source": [
    "Taking a naive continuum definition, one obtains\n",
    "\n",
    "$H(X|Y) = -\\sum_{y \\in \\mathcal{Y}} P(y) \\int_\\mathbb{R} dx p(x|y) \\log_2 p(x|y)$\n",
    "\n",
    "where $p(x|y)$ is probability density function for a (single variable) Gaussian variable. From the formulae on [4], one obtains for the naive bayes classifier above\n",
    "\n",
    "$H(X|Y) = -\\sum_{y \\in \\mathcal{Y}} P(y) \\frac{1}{2}\\log_2 \\left(2\\pi e\\sigma_y^2 \\right)$\n",
    "\n",
    "and correspondingly for multivariate Gaussians\n",
    "\n",
    "$H(X|Y) = -\\sum_{y \\in \\mathcal{Y}} P(y) \\frac{1}{2}\\log_2 \\left((2\\pi e)^N\\det(\\Sigma_y) \\right)$\n",
    "\n",
    "As a toy example, consider just the information entropy of a single Gaussian as a function of variance:"
   ]
  },
  {
   "cell_type": "code",
   "execution_count": 7,
   "id": "0615dd96",
   "metadata": {},
   "outputs": [
    {
     "data": {
      "text/plain": [
       "Text(0.5, 1.0, 'Differential entropy of a Gaussian variable')"
      ]
     },
     "execution_count": 7,
     "metadata": {},
     "output_type": "execute_result"
    },
    {
     "data": {
      "image/png": "[encoded data removed]",
      "text/plain": [
       "<Figure size 432x288 with 1 Axes>"
      ]
     },
     "metadata": {
      "needs_background": "light"
     },
     "output_type": "display_data"
    }
   ],
   "source": [
    "def gaussian_diff_entropy(variance): \n",
    "    return 0.5 * math.log(2 * math.pi * math.e * variance, 2)\n",
    "\n",
    "variances = np.arange(1,40000)/10000\n",
    "pylab.plot(variances, [gaussian_diff_entropy(x) for x in variances])\n",
    "pylab.xlabel(\"variance\")\n",
    "pylab.ylabel(\"differential entropy\")\n",
    "pylab.title(\"Differential entropy of a Gaussian variable\")"
   ]
  },
  {
   "cell_type": "markdown",
   "id": "83dd66dc",
   "metadata": {},
   "source": [
    "As the variance increases, so does the differential entropy, which reflects the 'uncertainty' of the random variable. This plot also demonstrates some of the issues with differential entropy, such as not being positive definite (it is also not co-ordinate invariant...)."
   ]
  },
  {
   "cell_type": "markdown",
   "id": "e1dffd85",
   "metadata": {},
   "source": [
    "One can calculate $H(X|Y)$ for the model"
   ]
  },
  {
   "cell_type": "code",
   "execution_count": 8,
   "id": "31de05cc",
   "metadata": {},
   "outputs": [
    {
     "name": "stdout",
     "output_type": "stream",
     "text": [
      "H(X|Y) for Gaussian Naive Bayes model = 0.714586735089024\n"
     ]
    }
   ],
   "source": [
    "def gaussian_nb_entropy_xy(clf):\n",
    "    ys = clf.class_prior_\n",
    "    variances = [x[0] for x in clf.var_]\n",
    "    entropy = 0.0\n",
    "    for y, var in zip(ys, variances):\n",
    "        entropy -= y * gaussian_diff_entropy(var)\n",
    "    return entropy\n",
    "\n",
    "print(f\"H(X|Y) for Gaussian Naive Bayes model = {gaussian_nb_entropy_xy(gnb_clf)}\")"
   ]
  },
  {
   "cell_type": "markdown",
   "id": "8e7b7fc9",
   "metadata": {},
   "source": [
    "And from knowledge of $H(X)$ and $H(Y)$, one can then calculate $H(Y|X)$\n",
    "\n",
    "$H(X)$ is an intricate quantity to calculate, since directly one would try and calculate it from $p(x)$ by $H(X) = \\int dx p(x) log_2 p(x)$. Using the naive Bayes classifier, one can compute an estimator $p(x) = \\sum_{y\\in\\mathcal{Y}} p(x|y)p(y)$, although this will not be the true $p(x)$"
   ]
  },
  {
   "cell_type": "code",
   "execution_count": 9,
   "id": "a19b1046",
   "metadata": {},
   "outputs": [
    {
     "name": "stdout",
     "output_type": "stream",
     "text": [
      "H(X) for Gaussian Naive Bayes model = 0.09948561115347716\n"
     ]
    }
   ],
   "source": [
    "def gaussian_nb_entropy_x(clf):\n",
    "    gaussian_distributions = [scipy.stats.norm(mu[0], math.sqrt(var[0])) for mu, var in zip(clf.theta_, clf.var_)]\n",
    "    def px(x):  # p(x) = sum_k p(x|k) p(k)\n",
    "        return sum([pxk.pdf(x) * pk for pxk, pk in zip(gaussian_distributions, clf.class_prior_)], 0)\n",
    "    def pxlogpx(x):\n",
    "        if x != - np.inf and x != np.inf and px(x) > 0.0:\n",
    "            return px(x) * math.log(px(x), 2)\n",
    "        else:\n",
    "            return 0.0\n",
    "    h_x = scipy.integrate.quad(pxlogpx, -np.inf, np.inf)[0]\n",
    "    return h_x\n",
    "\n",
    "print(f\"H(X) for Gaussian Naive Bayes model = {gaussian_nb_entropy_x(gnb_clf)}\")"
   ]
  },
  {
   "cell_type": "code",
   "execution_count": 10,
   "id": "747ff355",
   "metadata": {},
   "outputs": [
    {
     "name": "stdout",
     "output_type": "stream",
     "text": [
      "H(Y|X) for Gaussian Naive Bayes model = -0.9537639960077258\n"
     ]
    }
   ],
   "source": [
    "def gaussian_nb_entropy_yx(clf):\n",
    "    h_xy = gaussian_nb_entropy_xy(clf)\n",
    "    h_y = sum([py * math.log(py,2) for py in clf.class_prior_],0)  # discrete distribution, so easy calc\n",
    "    h_x = gaussian_nb_entropy_x(gnb_clf)\n",
    "    # print((h_xy, h_y, h_x))\n",
    "    return h_xy - h_x + h_y\n",
    "    \n",
    "print(f\"H(Y|X) for Gaussian Naive Bayes model = {gaussian_nb_entropy_yx(gnb_clf)}\")"
   ]
  },
  {
   "cell_type": "markdown",
   "id": "3bc5123e",
   "metadata": {},
   "source": [
    "Training on different features will yield different results"
   ]
  },
  {
   "cell_type": "code",
   "execution_count": 11,
   "id": "62069dcd",
   "metadata": {},
   "outputs": [
    {
     "data": {
      "text/plain": [
       "array([[ 0,  0,  0],\n",
       "       [14, 14,  8],\n",
       "       [ 0,  0,  0]])"
      ]
     },
     "execution_count": 11,
     "metadata": {},
     "output_type": "execute_result"
    }
   ],
   "source": [
    "feature = \"ash\"\n",
    "gnb_clf_ash = sklearn.naive_bayes.GaussianNB()\n",
    "gnb_clf_ash.fit([[x] for x in X_train[feature]], y_train)\n",
    "y_pred = gnb_clf.predict([[x] for x in X_test[feature]])\n",
    "sklearn.metrics.confusion_matrix(y_pred, [x for x in y_test])"
   ]
  },
  {
   "cell_type": "code",
   "execution_count": 12,
   "id": "07dbdec1",
   "metadata": {},
   "outputs": [
    {
     "name": "stdout",
     "output_type": "stream",
     "text": [
      "H(X|Y) for Gaussian Naive Bayes model = -0.017645869443382367\n",
      "H(Y|X) for Gaussian Naive Bayes model = -1.6859966005401321\n",
      "H(X) for Gaussian Naive Bayes model = -0.17714204967457986\n"
     ]
    }
   ],
   "source": [
    "print(f\"H(X|Y) for Gaussian Naive Bayes model = {gaussian_nb_entropy_xy(gnb_clf_ash)}\")\n",
    "print(f\"H(Y|X) for Gaussian Naive Bayes model = {gaussian_nb_entropy_yx(gnb_clf_ash)}\")\n",
    "print(f\"H(X) for Gaussian Naive Bayes model = {gaussian_nb_entropy_x(gnb_clf_ash)}\")"
   ]
  },
  {
   "cell_type": "markdown",
   "id": "69475a56",
   "metadata": {},
   "source": [
    "This model is far more \"certain\" as a probability distribution, since it predicts only to class 1."
   ]
  },
  {
   "cell_type": "markdown",
   "id": "9143d4f4",
   "metadata": {},
   "source": [
    "### Logistic regression\n",
    "\n",
    "What happens when one tries this on a statistical discriminative model? As an example, consider applying the same work to a Logistic Regression model."
   ]
  },
  {
   "cell_type": "code",
   "execution_count": 13,
   "id": "9f678a2c",
   "metadata": {
    "scrolled": true
   },
   "outputs": [
    {
     "data": {
      "text/plain": [
       "array([[ 0,  0,  0],\n",
       "       [14, 13,  0],\n",
       "       [ 0,  1,  8]])"
      ]
     },
     "execution_count": 13,
     "metadata": {},
     "output_type": "execute_result"
    }
   ],
   "source": [
    "# train on a single feature\n",
    "feature = \"hue\"\n",
    "logreg_clf = sklearn.linear_model.LogisticRegression()\n",
    "logreg_clf.fit([[x] for x in X_train[feature]], y_train)\n",
    "y_pred = logreg_clf.predict([[x] for x in X_test[feature]])\n",
    "sklearn.metrics.confusion_matrix(y_pred, [x for x in y_test])"
   ]
  },
  {
   "cell_type": "markdown",
   "id": "f78cf6d8",
   "metadata": {},
   "source": [
    "The model is discriminative and statistical; and therefore yields probabilities $P(Y|X)$; $P(X|Y)$ is unavailable."
   ]
  },
  {
   "cell_type": "code",
   "execution_count": 14,
   "id": "32908519",
   "metadata": {
    "scrolled": true
   },
   "outputs": [
    {
     "data": {
      "text/plain": [
       "array([[0.00402641, 0.00463544, 0.99133816],\n",
       "       [0.03561817, 0.04242276, 0.92195907]])"
      ]
     },
     "execution_count": 14,
     "metadata": {},
     "output_type": "execute_result"
    }
   ],
   "source": [
    "logreg_clf.predict_proba([[-0.1], [0.3]])"
   ]
  },
  {
   "cell_type": "markdown",
   "id": "41aa033e",
   "metadata": {},
   "source": [
    "Which means that $H(Y|X=x)$ is calculable. Calculation of $H(Y|X) = \\int_\\mathbb{R} dx p(x) H(Y|X=x) $ then requires knowledge of $p(x)$. Recall the generative model allowed the calculation of an estimate of $p(x)$."
   ]
  },
  {
   "cell_type": "markdown",
   "id": "53c7b17f",
   "metadata": {},
   "source": [
    "### Conclusions on Naive Bayes example\n",
    "\n",
    "The machinery and calculations used only assume a generative model. From that model, once can compute $H(Y|X), H(X|Y)$ and $H(X)$. A good question is - which if those measures might be useful for various purposes? Given that $Y$ is the classification space, and $X$ is the underlying feature space, one might say that $H(X)$, which could be interpreted as the model's entropy over the feature space, is indicative of the model's messaging/encoding of the feature space.\n",
    "\n",
    "Following [1], $H(A|B)$ is the entropy of $A$ when $B$ is known. $H(Y|X)$ would then be the entropy of the classification given that the input of the model is known. $H(X|Y)$ would be the entropy of the feature space given that the output classification is known. $H(X)$ would then be, from the model's perspective, the entropy of the feature space."
   ]
  },
  {
   "cell_type": "markdown",
   "id": "b6a4a961",
   "metadata": {},
   "source": [
    "### References\n",
    "\n",
    "[1] Shannon, C. \"A mathematical theory of communication\", https://people.math.harvard.edu/~ctm/home/text/others/shannon/entropy/entropy.pdf\n",
    "\n",
    "[2] Wikipedia, \"Entropy\", https://en.wikipedia.org/wiki/Entropy_(information_theory)\n",
    "\n",
    "[3] Wikipedia, \"Conditional Entropy\", https://en.wikipedia.org/wiki/Conditional_entropy\n",
    "\n",
    "[4] Wikipedia, \"Differential Entropy\", https://en.wikipedia.org/wiki/Differential_entropy"
   ]
  }
 ],
 "metadata": {
  "kernelspec": {
   "display_name": "Python 3 (ipykernel)",
   "language": "python",
   "name": "python3"
  },
  "language_info": {
   "codemirror_mode": {
    "name": "ipython",
    "version": 3
   },
   "file_extension": ".py",
   "mimetype": "text/x-python",
   "name": "python",
   "nbconvert_exporter": "python",
   "pygments_lexer": "ipython3",
   "version": "3.10.4"
  }
 },
 "nbformat": 4,
 "nbformat_minor": 5
}
