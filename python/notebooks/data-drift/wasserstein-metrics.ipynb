{
 "cells": [
  {
   "cell_type": "code",
   "execution_count": 76,
   "id": "f0e25293",
   "metadata": {},
   "outputs": [],
   "source": [
    "from scipy.optimize import linear_sum_assignment\n",
    "from sklearn.utils import resample\n",
    "import numpy as np\n",
    "from collections.abc import Iterable\n",
    "from typing import Callable, TypeVar\n",
    "import pylab"
   ]
  },
  {
   "cell_type": "markdown",
   "id": "0d2e3b1f",
   "metadata": {},
   "source": [
    "# Wasserstein metrics\n",
    "\n",
    "\n",
    "### Overview of defintions\n",
    "\n",
    "Following [1], the Wasserstein metric can be defined on a suitably nice metric space $(M, d)$ (where 'suitably nice' means a space homeomorphic to a complete metric space that has a countable dense subset) as a metric on a pair of probability distributions $\\mu$ and $\\nu$ on $M$:\n",
    "\n",
    "$W_p(\\mu, \\nu) = \\inf_{\\gamma \\in \\Gamma(\\mu, \\nu)} \\left(\\mathbf{E}_{(x, y) \\sim \\gamma} d(x, y)^p \\right)^{1/p}$\n",
    "\n",
    "where $\\Gamma(\\mu, \\nu)$ is the set of all couplings between $\\mu$ and $\\nu$. Following [3], $W_p$ is a metric on the space of probability distributions on $M$. \n",
    "\n",
    "$W_p$ can be thought of as an optimal transport problem, where one is trying to move the 'distribution mass' from $\\mu$ to $\\nu$ with minimal effort (where effort is moving a chunk of the probability density from $x$ to $y$ over a distance $d(x,y)$). [2] shows how to calculate $W_p$ in a number of different cases. [4] shows, in detail, how to generally calculate $W_2$ for an empirical distribution.\n",
    "\n",
    "Taking $\\mu$ and $\\nu$ to be empirical distributions with samples $\\{X_i\\}$ and $\\{Y_i\\}$ respectively, each with $n$ samples, $W_p$ becomes:\n",
    "\n",
    "$W_p(\\mu, \\nu) = \\inf_\\pi \\left( \\frac{1}{n} \\sum_{i=1}^n d(X_i, Y_{\\pi(i)})^p \\right)^{1/p}$\n",
    "\n",
    "where the infimum is over all permutations $\\pi$ of $n$ elements.\n",
    "\n",
    "### Direct calculation for empirical distributions\n",
    "\n",
    "The real work is working out the permutation $\\pi_0$ that yields the infimum.\n",
    "\n",
    "$\\pi_0  = \\arg\\min_{\\pi} \\left( \\frac{1}{n} \\sum_{i=1}^n d(X_i, Y_{\\pi(i)})^p \\right)^{1/p}\n",
    "= \\arg\\min_{\\pi} \\left(\\sum_{i=1}^n d(X_i, Y_{\\pi(i)})^p \\right)$\n",
    "\n",
    "This can be recast as a linear sum assignment problem\n",
    "\n",
    "$\\pi_0 = \\arg\\min_{\\pi} \\left(\\sum_{i=1}^n d(X_i, Y_{\\pi(i)})^p \\right)\n",
    "= \\arg\\min_{\\pi} \\left(\\sum_{i=1}^n \\sum_{j=1}^n d(X_i, Y_j)^p \\delta_{\\pi(i), j}\\right) $\n",
    "\n",
    "where in [5], the cost matrix $C_{i,j} = d(X_i, Y_j)^p$, and the boolean assignment matrix $X_{i,j} = \\delta_{\\pi(i), j}$.\n",
    "\n",
    "Once $\\pi_0$ is known, calculation of the empirical $W_p$ becomes straightforward\n",
    "\n",
    "$W_p(\\mu, \\nu) = \\left( \\frac{1}{n} \\sum_{i=1}^n d(X_i, Y_{\\pi_0(i)})^p \\right)^{1/p}$\n",
    "\n"
   ]
  },
  {
   "cell_type": "code",
   "execution_count": 41,
   "id": "cfaec37a",
   "metadata": {},
   "outputs": [],
   "source": [
    "Sample = TypeVar(\"Sample\")\n",
    "\n",
    "def get_optimal_permutation(\n",
    "    samples_x: Iterable[Sample], \n",
    "    samples_y: Iterable[Sample], \n",
    "    wasserstein_p: float, \n",
    "    distance_fn: Callable[[Sample, Sample], float]\n",
    ") -> Iterable[int]:\n",
    "    \"\"\" takes a pair of (equal length) sample lists, computes the Wasserstein cost function, and\n",
    "        returns an array describing the optimal permutation to apply on the second list of samples\n",
    "        to us in computation of a Wasserstein distance.\n",
    "    \"\"\"\n",
    "    if len(samples_x) != len(samples_y):\n",
    "        raise ValueError(f\"input sample lengths {len(samples_x)}, {len(samples_y)} differ\")\n",
    "    n_samples = len(samples_x)\n",
    "    cost_matrix = np.zeros((n_samples, n_samples))\n",
    "    for ctr_i in range(n_samples):\n",
    "        for ctr_j in range(n_samples):\n",
    "            cost_matrix[ctr_i, ctr_j] = distance_fn(samples_x[ctr_i], samples_y[ctr_j]) ** wasserstein_p\n",
    "    _, permutation = linear_sum_assignment(cost_matrix)\n",
    "    return permutation"
   ]
  },
  {
   "cell_type": "markdown",
   "id": "2d600c43",
   "metadata": {},
   "source": [
    "As an example, consider a pair of sample sets on the real line with an L1 norm (i.e. $M=\\mathbb{R}$, $d = |.|_1$). For simplicity and pedagogy, consider samples which we can see how to re-order."
   ]
  },
  {
   "cell_type": "code",
   "execution_count": 42,
   "id": "deb624c1",
   "metadata": {},
   "outputs": [
    {
     "name": "stdout",
     "output_type": "stream",
     "text": [
      "[0 3 1 2]\n"
     ]
    }
   ],
   "source": [
    "simple_x = [1, 2, 3, 4]\n",
    "simple_y = [1.1, 3.1, 4.1, 2.1]\n",
    "real_line_l1_distance = lambda x, y: np.abs(x-y)\n",
    "simple_p = 1\n",
    "\n",
    "permutations = get_optimal_permutation(simple_x, simple_y, simple_p, real_line_l1_distance)\n",
    "print(permutations)"
   ]
  },
  {
   "cell_type": "markdown",
   "id": "3c3b85a4",
   "metadata": {},
   "source": [
    "The indexes above show the target index of where the indexes of the Y samples should be mapped to"
   ]
  },
  {
   "cell_type": "code",
   "execution_count": 43,
   "id": "2deb83ea",
   "metadata": {},
   "outputs": [
    {
     "name": "stdout",
     "output_type": "stream",
     "text": [
      "[1, 2, 3, 4]\n",
      "[1.1, 2.1, 3.1, 4.1]\n"
     ]
    }
   ],
   "source": [
    "print(simple_x)\n",
    "print([simple_y[p] for p in permutations])"
   ]
  },
  {
   "cell_type": "markdown",
   "id": "6ff55287",
   "metadata": {},
   "source": [
    "Given the optimal permutation, the Wasserstein distance can then be calculated directly"
   ]
  },
  {
   "cell_type": "code",
   "execution_count": 48,
   "id": "0e56b2b2",
   "metadata": {},
   "outputs": [],
   "source": [
    "def get_wasserstein_distance_from_permutation(\n",
    "    samples_x: Iterable[Sample], \n",
    "    samples_y: Iterable[Sample], \n",
    "    wasserstein_p: float, \n",
    "    distance_fn: Callable[[Sample, Sample], float],\n",
    "    permutations: Iterable[int]\n",
    ") -> float:\n",
    "    if len(samples_x) != len(samples_y):\n",
    "        raise ValueError(f\"input sample lengths {len(samples_x)}, {len(samples_y)} differ\")\n",
    "    n_samples = len(samples_x)\n",
    "\n",
    "    permuted_y = [samples_y[p] for p in permutations]\n",
    "    wasserstein_distance = sum([distance_fn(x, y) ** wasserstein_p for x, y in zip(samples_x, permuted_y)])\n",
    "    wasserstein_distance /= n_samples\n",
    "    wasserstein_distance = wasserstein_distance ** 1 / wasserstein_p\n",
    "    return wasserstein_distance"
   ]
  },
  {
   "cell_type": "code",
   "execution_count": 49,
   "id": "e05868e2",
   "metadata": {},
   "outputs": [
    {
     "data": {
      "text/plain": [
       "0.09999999999999998"
      ]
     },
     "execution_count": 49,
     "metadata": {},
     "output_type": "execute_result"
    }
   ],
   "source": [
    "get_wasserstein_distance_from_permutation(simple_x, simple_y, simple_p, real_line_l1_distance, permutations)"
   ]
  },
  {
   "cell_type": "markdown",
   "id": "31052a00",
   "metadata": {},
   "source": [
    "The examples above assume that the number of samples for X and Y are the same. In general, this need not be the case. On the assumption that both samples give good coverage of the underlying distributions, it might be preferable to upsample the smaller set than down sample the larger set. The upsample should also try to preserve the original distribution of samples as much as possible without skewing them."
   ]
  },
  {
   "cell_type": "code",
   "execution_count": 70,
   "id": "7ce83087",
   "metadata": {},
   "outputs": [],
   "source": [
    "def get_resampled_sample_sets(\n",
    "    samples_x: Iterable[Sample], \n",
    "    samples_y: Iterable[Sample]\n",
    ") -> (Iterable[Sample], Iterable[Sample]):\n",
    "    n_samples = max(len(samples_x), len(samples_y))\n",
    "    is_x_smaller = len(samples_x) < len(samples_y)\n",
    "    samples = samples_x if is_x_smaller else samples_y\n",
    "    scale_factor = n_samples / len(samples)\n",
    "    np_samples = np.copy(samples)\n",
    "    for _ in range(1, int(scale_factor)):  # take direct whole copies to fill up samples\n",
    "        np_samples = np.concatenate((np_samples, samples))\n",
    "    if (n_samples - len(np_samples)):\n",
    "        np_samples = np.concatenate(  # add in a few more random samples to top up the smaller set\n",
    "            (np_samples, resample(samples, replace=False, n_samples=n_samples - len(np_samples)))\n",
    "        )                          \n",
    "    if is_x_smaller:\n",
    "        samples_x = np_samples\n",
    "    else:\n",
    "        samples_y = np_samples\n",
    "    return samples_x, samples_y"
   ]
  },
  {
   "cell_type": "code",
   "execution_count": 71,
   "id": "c0c6589d",
   "metadata": {},
   "outputs": [
    {
     "data": {
      "text/plain": [
       "([[1.1, 1.1], [3.3, 3.3], [2.2, 2.2], [4.4, 4.4], [5.5, 5.5]],\n",
       " array([[1, 1],\n",
       "        [2, 2],\n",
       "        [1, 1],\n",
       "        [2, 2],\n",
       "        [1, 1]]))"
      ]
     },
     "execution_count": 71,
     "metadata": {},
     "output_type": "execute_result"
    }
   ],
   "source": [
    "get_resampled_sample_sets([[1.1, 1.1], [3.3, 3.3], [2.2, 2.2], [4.4, 4.4], [5.5, 5.5]], [[1,1], [2,2]])"
   ]
  },
  {
   "cell_type": "markdown",
   "id": "a8bbd61c",
   "metadata": {},
   "source": [
    "From this one can define a Wasserstein distance on all empricial distributions for any integer p > 0"
   ]
  },
  {
   "cell_type": "code",
   "execution_count": 72,
   "id": "7d5f399a",
   "metadata": {},
   "outputs": [],
   "source": [
    "def get_wasserstein_distance(\n",
    "    samples_x: Iterable[Sample],\n",
    "    samples_y: Iterable[Sample],\n",
    "    wasserstein_p: float,\n",
    "    distance_fn: Callable[[Sample, Sample], float]\n",
    ") -> float:\n",
    "    samples_x, samples_y = get_resampled_sample_sets(samples_x, samples_y)\n",
    "    permutations = get_optimal_permutation(samples_x, samples_y, wasserstein_p, distance_fn)\n",
    "    return get_wasserstein_distance_from_permutation(samples_x, samples_y, wasserstein_p, distance_fn, permutations)"
   ]
  },
  {
   "cell_type": "markdown",
   "id": "a2623dba",
   "metadata": {},
   "source": [
    "### Data drift example\n",
    "\n",
    "As a play example, consider the some normally distributed data that drifts over days."
   ]
  },
  {
   "cell_type": "code",
   "execution_count": 77,
   "id": "9981772c",
   "metadata": {},
   "outputs": [],
   "source": [
    "def get_binned_samples(loc: float, n_sample: int, bin_width: float=0.1, scale: float=1.0) -> dict[float, float]:\n",
    "    \"\"\" loc - centre of normal distribution\n",
    "        n_sample - number of samples to generate\n",
    "        bin_width - width of the bins to make the histogram\n",
    "        scale - standard deviation of normal distribution\n",
    "        \n",
    "        returns a dict<bin value, frequency of bin>\n",
    "    \"\"\"\n",
    "    samples = np.random.normal(loc=loc, scale=scale, size=n_sample)\n",
    "    binned_samples = {}\n",
    "    for sample in samples:\n",
    "        bin = int(sample / bin_width) * bin_width\n",
    "        binned_samples[bin] = binned_samples.get(bin, 0) + 1\n",
    "    if 0 in binned_samples.keys():\n",
    "        binned_samples[0] /= 2  # overcounting of zero bin\n",
    "    return binned_samples"
   ]
  },
  {
   "cell_type": "code",
   "execution_count": 78,
   "id": "b02b6e00",
   "metadata": {},
   "outputs": [
    {
     "data": {
      "image/png": "[encoded data removed]",
      "text/plain": [
       "<Figure size 640x480 with 1 Axes>"
      ]
     },
     "metadata": {},
     "output_type": "display_data"
    }
   ],
   "source": [
    "n_sample = 10000\n",
    "dayN_datas = []\n",
    "for i_day, loc in enumerate(np.arange(0,5,1.0)):\n",
    "    this_samples = get_binned_samples(loc, n_sample)\n",
    "    pylab.plot(this_samples.keys(), this_samples.values(), '.', label=f\"day {i_day} data\")\n",
    "    dayN_datas.append(this_samples)\n",
    "pylab.xlabel(\"bin\")\n",
    "pylab.ylabel(\"frequency\")\n",
    "pylab.title(\"cartoon example of data drifting over days\")\n",
    "_ = pylab.legend()"
   ]
  },
  {
   "cell_type": "code",
   "execution_count": 94,
   "id": "6e90ef27",
   "metadata": {},
   "outputs": [
    {
     "name": "stdout",
     "output_type": "stream",
     "text": [
      "X0 shape = (1000, 1)\n"
     ]
    }
   ],
   "source": [
    "wasserstein_p = 2\n",
    "norm_order = 2\n",
    "\n",
    "distance_fn = lambda x, y: np.linalg.norm(x-y, ord=norm_order)  # L_n norm on R, where n=ord\n",
    "\n",
    "n_sample = 1000\n",
    "scale = 1.0\n",
    "\n",
    "# get samples for the zeroth day\n",
    "X0 = np.random.normal(loc=0, scale=scale, size=n_sample).reshape((n_sample, 1))\n",
    "print(f\"X0 shape = {X0.shape}\")"
   ]
  },
  {
   "cell_type": "code",
   "execution_count": 95,
   "id": "f76c4628",
   "metadata": {},
   "outputs": [
    {
     "name": "stdout",
     "output_type": "stream",
     "text": [
      "Wasserstein distance between day 0 and day 0 = 0.002568556327507177\n",
      "Wasserstein distance between day 0 and day 1 = 0.5412299552129992\n",
      "Wasserstein distance between day 0 and day 2 = 2.1070184782271877\n",
      "Wasserstein distance between day 0 and day 3 = 4.641583938376564\n",
      "Wasserstein distance between day 0 and day 4 = 8.016440659962255\n"
     ]
    }
   ],
   "source": [
    "for i_day, loc in enumerate(np.arange(0,5,1.0)):\n",
    "    # generate data for the drifted day\n",
    "    X1 = np.random.normal(loc=loc, scale=scale, size=n_sample).reshape((n_sample, 1))\n",
    "    wasserstein_distance = get_wasserstein_distance(X0, X1, wasserstein_p, distance_fn)\n",
    "    print(f\"Wasserstein distance between day 0 and day {i_day} = {wasserstein_distance}\")"
   ]
  },
  {
   "cell_type": "markdown",
   "id": "38034cb9",
   "metadata": {},
   "source": [
    "### References\n",
    "\n",
    "[1] Wikipedia, \"[Wasserstein metric](https://en.wikipedia.org/wiki/Wasserstein_metric)\"\n",
    "\n",
    "[2] Wasserman, L., \"[Optimal transport and Wasserstein distance](https://www.stat.cmu.edu/~larry/=sml/Opt.pdf)\"\n",
    "\n",
    "[3] Clement, P., Desch, W., \"[An elementary proof of the triangle inequality for the Wasserstein metric](https://math.leidenuniv.nl/reports/files/wasserstein2-7.pdf)\"\n",
    "\n",
    "[4] Williams, A., \"[A short introduction to optimal transport and Wasserstein distance](https://alexhwilliams.info/itsneuronalblog/2020/10/09/optimal-transport/)\"\n",
    "\n",
    "[5] Scipy docs, \"[scipy.optimize.linear_sum_assignment](https://docs.scipy.org/doc/scipy/reference/generated/scipy.optimize.linear_sum_assignment.html)\""
   ]
  }
 ],
 "metadata": {
  "kernelspec": {
   "display_name": "Python 3 (ipykernel)",
   "language": "python",
   "name": "python3"
  },
  "language_info": {
   "codemirror_mode": {
    "name": "ipython",
    "version": 3
   },
   "file_extension": ".py",
   "mimetype": "text/x-python",
   "name": "python",
   "nbconvert_exporter": "python",
   "pygments_lexer": "ipython3",
   "version": "3.10.4"
  }
 },
 "nbformat": 4,
 "nbformat_minor": 5
}
